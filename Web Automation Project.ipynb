{
 "cells": [
  {
   "cell_type": "markdown",
   "metadata": {},
   "source": [
    "### 1. Import Table with products and links"
   ]
  },
  {
   "cell_type": "code",
   "execution_count": 2,
   "metadata": {},
   "outputs": [
    {
     "data": {
      "text/html": [
       "<div>\n",
       "<style scoped>\n",
       "    .dataframe tbody tr th:only-of-type {\n",
       "        vertical-align: middle;\n",
       "    }\n",
       "\n",
       "    .dataframe tbody tr th {\n",
       "        vertical-align: top;\n",
       "    }\n",
       "\n",
       "    .dataframe thead th {\n",
       "        text-align: right;\n",
       "    }\n",
       "</style>\n",
       "<table border=\"1\" class=\"dataframe\">\n",
       "  <thead>\n",
       "    <tr style=\"text-align: right;\">\n",
       "      <th></th>\n",
       "      <th>Link Produto</th>\n",
       "      <th>Amazon</th>\n",
       "      <th>Lojas Americanas</th>\n",
       "      <th>Magazine Luiza</th>\n",
       "      <th>Preço Original</th>\n",
       "      <th>Preço Atual</th>\n",
       "      <th>Local</th>\n",
       "    </tr>\n",
       "  </thead>\n",
       "  <tbody>\n",
       "    <tr>\n",
       "      <th>0</th>\n",
       "      <td>iPhone 11 Apple 64GB Preto</td>\n",
       "      <td>https://www.amazon.com.br/IPHONE-11-PRETO-TELA...</td>\n",
       "      <td>https://www.americanas.com.br/produto/16113159...</td>\n",
       "      <td>https://www.magazineluiza.com.br/iphone-11-app...</td>\n",
       "      <td>5297</td>\n",
       "      <td>NaN</td>\n",
       "      <td>NaN</td>\n",
       "    </tr>\n",
       "    <tr>\n",
       "      <th>1</th>\n",
       "      <td>Smart TV LED 50'' LG Ultra HD 4K Thinq AI</td>\n",
       "      <td>https://www.amazon.com.br/Smart-LG-Intelig%C3%...</td>\n",
       "      <td>https://www.americanas.com.br/produto/49516150...</td>\n",
       "      <td>https://www.magazineluiza.com.br/smart-tv-uhd-...</td>\n",
       "      <td>2900</td>\n",
       "      <td>NaN</td>\n",
       "      <td>NaN</td>\n",
       "    </tr>\n",
       "  </tbody>\n",
       "</table>\n",
       "</div>"
      ],
      "text/plain": [
       "                                Link Produto  \\\n",
       "0                 iPhone 11 Apple 64GB Preto   \n",
       "1  Smart TV LED 50'' LG Ultra HD 4K Thinq AI   \n",
       "\n",
       "                                              Amazon  \\\n",
       "0  https://www.amazon.com.br/IPHONE-11-PRETO-TELA...   \n",
       "1  https://www.amazon.com.br/Smart-LG-Intelig%C3%...   \n",
       "\n",
       "                                    Lojas Americanas  \\\n",
       "0  https://www.americanas.com.br/produto/16113159...   \n",
       "1  https://www.americanas.com.br/produto/49516150...   \n",
       "\n",
       "                                      Magazine Luiza  Preço Original  \\\n",
       "0  https://www.magazineluiza.com.br/iphone-11-app...            5297   \n",
       "1  https://www.magazineluiza.com.br/smart-tv-uhd-...            2900   \n",
       "\n",
       "   Preço Atual  Local  \n",
       "0          NaN    NaN  \n",
       "1          NaN    NaN  "
      ]
     },
     "metadata": {},
     "output_type": "display_data"
    }
   ],
   "source": [
    "import pandas as pd\n",
    "\n",
    "products = pd.read_excel('Produtos.xlsx')\n",
    "display(products)"
   ]
  },
  {
   "cell_type": "markdown",
   "metadata": {},
   "source": [
    "### 2. Get Cellphone Prices from Links"
   ]
  },
  {
   "cell_type": "code",
   "execution_count": 3,
   "metadata": {},
   "outputs": [],
   "source": [
    "def price_to_format(price_string):\n",
    "    price_string = price_string.replace('.','').replace('R$','').replace(',','.')\n",
    "    return float(price_string)"
   ]
  },
  {
   "cell_type": "code",
   "execution_count": 4,
   "metadata": {},
   "outputs": [],
   "source": [
    "from selenium import webdriver\n",
    "import time\n",
    "\n",
    "#getting weblinks\n",
    "driver = webdriver.Chrome()\n",
    "url_amazon_cell = products['Amazon'].values[0]\n",
    "url_americanas_cell = products['Lojas Americanas'].values[0]\n",
    "url_magalu_cell = products['Magazine Luiza'].values[0]\n",
    "\n",
    "#Amazon price\n",
    "driver.get(url_amazon_cell)\n",
    "price_cell_ama = driver.find_element_by_id('priceblock_ourprice').text\n",
    "price_cell_ama = price_to_format(price_cell_ama)\n"
   ]
  },
  {
   "cell_type": "code",
   "execution_count": 5,
   "metadata": {},
   "outputs": [],
   "source": [
    "#Americanas price\n",
    "#driver.get(url_americanas_cell)\n",
    "#time.sleep(5)\n",
    "#price_cell_amer = driver.find_element_by_class_name('src__Title-sc-1u9ae8m-1 fETrEF').text\n",
    "price_cell_amer = 4104.21\n",
    "#print(price_cell_amer)\n",
    "#print(type(price_cell_amer))\n"
   ]
  },
  {
   "cell_type": "code",
   "execution_count": 6,
   "metadata": {},
   "outputs": [],
   "source": [
    "#Magalu prices\n",
    "driver.get(url_magalu_cell)\n",
    "price_cell_ma = driver.find_element_by_class_name('price-template__text').text\n",
    "price_cell_ma = price_to_format(price_cell_ma)"
   ]
  },
  {
   "cell_type": "markdown",
   "metadata": {},
   "source": [
    "### 3. Get TV Prices from Links"
   ]
  },
  {
   "cell_type": "code",
   "execution_count": 7,
   "metadata": {},
   "outputs": [],
   "source": [
    "driver_tv = webdriver.Chrome()\n",
    "url_amazon_tv = 'https://www.amazon.com.br/LG-50UN731C-Assistente-Virtual-Bluetooth/dp/B08FJCW8H3/ref=pd_lpo_504_t_0/133-7858174-5194815?_encoding=UTF8&pd_rd_i=B08FJCW8H3&pd_rd_r=330af3ee-e4bc-4b4a-8821-f6426baea40c&pd_rd_w=rX31W&pd_rd_wg=CnS09&pf_rd_p=cfa1789c-e63b-406f-a502-2b3819ce5a27&pf_rd_r=DN3AVGJ2TRR887SCBFE8&psc=1&refRID=DN3AVGJ2TRR887SCBFE8'\n",
    "url_americanas_tv = 'https://www.americanas.com.br/produto/495161500?pfm_carac=smart-tv-led-pro-50-ultra-hd-4k-lg-50um751c0sb-thinq-ai-4-hdmi-2-usb-wi-fi&pfm_index=3&pfm_page=search&pfm_pos=grid&pfm_type=search_page'\n",
    "url_magalu_tv = products['Magazine Luiza'].values[1]\n",
    "\n",
    "#Amazon Price\n",
    "driver_tv.get(url_amazon_tv)\n",
    "price_tv_ama = driver_tv.find_element_by_id('priceblock_ourprice').text\n",
    "price_tv_ama = price_to_format(price_tv_ama)"
   ]
  },
  {
   "cell_type": "code",
   "execution_count": 8,
   "metadata": {},
   "outputs": [],
   "source": [
    "#Americanas Price\n",
    "#driver_tv.get(url_americanas_tv)\n",
    "#price_tv_amer = driver_tv.find_element_by_class_name('src__BestPrice-sc-1jvw02c-5 cBWOIB priceSales').text\n",
    "price_tv_amer = 2599.00"
   ]
  },
  {
   "cell_type": "code",
   "execution_count": 9,
   "metadata": {},
   "outputs": [],
   "source": [
    "#Magazine Luiza price\n",
    "driver_tv.get(url_magalu_tv)\n",
    "price_tv_ma = driver_tv.find_element_by_class_name('price-template__text').text\n",
    "price_tv_ma = price_to_format(price_tv_ma)"
   ]
  },
  {
   "cell_type": "markdown",
   "metadata": {},
   "source": [
    "### 4. Input prices in DataFrame and Store (link)"
   ]
  },
  {
   "cell_type": "code",
   "execution_count": 11,
   "metadata": {},
   "outputs": [
    {
     "data": {
      "text/html": [
       "<div>\n",
       "<style scoped>\n",
       "    .dataframe tbody tr th:only-of-type {\n",
       "        vertical-align: middle;\n",
       "    }\n",
       "\n",
       "    .dataframe tbody tr th {\n",
       "        vertical-align: top;\n",
       "    }\n",
       "\n",
       "    .dataframe thead th {\n",
       "        text-align: right;\n",
       "    }\n",
       "</style>\n",
       "<table border=\"1\" class=\"dataframe\">\n",
       "  <thead>\n",
       "    <tr style=\"text-align: right;\">\n",
       "      <th></th>\n",
       "      <th>Link Produto</th>\n",
       "      <th>Amazon</th>\n",
       "      <th>Lojas Americanas</th>\n",
       "      <th>Magazine Luiza</th>\n",
       "      <th>Preço Original</th>\n",
       "      <th>Preço Atual</th>\n",
       "      <th>Local</th>\n",
       "    </tr>\n",
       "  </thead>\n",
       "  <tbody>\n",
       "    <tr>\n",
       "      <th>0</th>\n",
       "      <td>iPhone 11 Apple 64GB Preto</td>\n",
       "      <td>https://www.amazon.com.br/IPHONE-11-PRETO-TELA...</td>\n",
       "      <td>https://www.americanas.com.br/produto/16113159...</td>\n",
       "      <td>https://www.magazineluiza.com.br/iphone-11-app...</td>\n",
       "      <td>5297</td>\n",
       "      <td>3905.07</td>\n",
       "      <td>Magazine Luiza</td>\n",
       "    </tr>\n",
       "    <tr>\n",
       "      <th>1</th>\n",
       "      <td>Smart TV LED 50'' LG Ultra HD 4K Thinq AI</td>\n",
       "      <td>https://www.amazon.com.br/Smart-LG-Intelig%C3%...</td>\n",
       "      <td>https://www.americanas.com.br/produto/49516150...</td>\n",
       "      <td>https://www.magazineluiza.com.br/smart-tv-uhd-...</td>\n",
       "      <td>2900</td>\n",
       "      <td>2599.00</td>\n",
       "      <td>Lojas Americanas</td>\n",
       "    </tr>\n",
       "  </tbody>\n",
       "</table>\n",
       "</div>"
      ],
      "text/plain": [
       "                                Link Produto  \\\n",
       "0                 iPhone 11 Apple 64GB Preto   \n",
       "1  Smart TV LED 50'' LG Ultra HD 4K Thinq AI   \n",
       "\n",
       "                                              Amazon  \\\n",
       "0  https://www.amazon.com.br/IPHONE-11-PRETO-TELA...   \n",
       "1  https://www.amazon.com.br/Smart-LG-Intelig%C3%...   \n",
       "\n",
       "                                    Lojas Americanas  \\\n",
       "0  https://www.americanas.com.br/produto/16113159...   \n",
       "1  https://www.americanas.com.br/produto/49516150...   \n",
       "\n",
       "                                      Magazine Luiza  Preço Original  \\\n",
       "0  https://www.magazineluiza.com.br/iphone-11-app...            5297   \n",
       "1  https://www.magazineluiza.com.br/smart-tv-uhd-...            2900   \n",
       "\n",
       "   Preço Atual             Local  \n",
       "0      3905.07    Magazine Luiza  \n",
       "1      2599.00  Lojas Americanas  "
      ]
     },
     "metadata": {},
     "output_type": "display_data"
    }
   ],
   "source": [
    "list_cell = [(price_cell_ama,'Amazon'),(price_cell_amer,'Lojas Americanas'),(price_cell_ma,'Magazine Luiza')]\n",
    "list_tv = [(price_tv_ama,'Amazon'),(price_tv_amer,'Lojas Americanas'),(price_tv_ma,'Magazine Luiza')]\n",
    "list_cell.sort()\n",
    "list_tv.sort()\n",
    "products.loc[0,'Preço Atual'] = list_cell[0][0]\n",
    "products.loc[0,'Local'] = list_cell[0][1]\n",
    "products.loc[1,'Preço Atual'] = list_tv[0][0]\n",
    "products.loc[1,'Local'] = list_tv[0][1]\n",
    "display(products)"
   ]
  },
  {
   "cell_type": "markdown",
   "metadata": {},
   "source": [
    "### 5.  Save Spreadsheet and Send Email in case of 20% Discount"
   ]
  },
  {
   "cell_type": "code",
   "execution_count": 16,
   "metadata": {},
   "outputs": [],
   "source": [
    "import yagmail\n",
    "\n",
    "products.to_excel(r'Produtos.xlsx')\n",
    "price_current_cell = products.loc[0,'Preço Atual']\n",
    "price_original_cell = products.loc[0,'Preço Original']\n",
    "price_current_tv = products.loc[1,'Preço Atual']\n",
    "price_original_tv = products.loc[1,'Preço Original']\n",
    "\n",
    "if price_current_cell <= 0.8 * price_original_cell or price_current_tv <= 0.8 * price_original_tv :\n",
    "    user = yagmail.SMTP(user = 'youremail@gmail.com',password = '1234')\n",
    "    if price_current_cell <= 0.8 * price_original_cell:\n",
    "        text = f'''\n",
    "        Bom dia prezado, como está?\n",
    "        \n",
    "        Encaminho esse email para alertar que existe uma boa oportunidade de compra de um Iphone 11. O preço atual é de R${price_current_cell} e pode ser encontrado na loja {products.loc[0,'Local']}, \n",
    "        \n",
    "        Qualque dúvida, fico à disposição.\n",
    "        \n",
    "        Att. Felipe\n",
    "        '''\n",
    "        user.send(to = 'youremail+1@gmail.com', subject = 'Oportunidade de Compra IPHONE11',contents = text)\n",
    "    if price_current_tv <= 0.8 * price_original_tv:\n",
    "        text = f'''\n",
    "        Bom dia prezado, como está?\n",
    "        \n",
    "        Encaminho esse email para alertar que existe uma boa oportunidade de compra de uma TV LED 50' LG. O preço atual é de R${price_current_tv} e pode ser encontrado na loja {products.loc[1,'Local']}, \n",
    "        \n",
    "        Qualque dúvida, fico à disposição.\n",
    "        \n",
    "        Att. Felipe\n",
    "        '''\n",
    "        user.send(to = 'youremail+1@gmail.com', subject = 'Oportunidade de Compra TVLED',contents = text)\n",
    "    "
   ]
  }
 ],
 "metadata": {
  "kernelspec": {
   "display_name": "Python 3",
   "language": "python",
   "name": "python3"
  },
  "language_info": {
   "codemirror_mode": {
    "name": "ipython",
    "version": 3
   },
   "file_extension": ".py",
   "mimetype": "text/x-python",
   "name": "python",
   "nbconvert_exporter": "python",
   "pygments_lexer": "ipython3",
   "version": "3.8.5"
  }
 },
 "nbformat": 4,
 "nbformat_minor": 4
}
